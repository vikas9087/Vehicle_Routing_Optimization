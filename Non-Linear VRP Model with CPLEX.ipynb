{
 "cells": [
  {
   "cell_type": "code",
   "execution_count": null,
   "metadata": {},
   "outputs": [],
   "source": [
    "import numpy as np\n",
    "import pandas as pd\n",
    "import matplotlib.pyplot as plt\n",
    "import os\n",
    "from docplex.mp.model import Model\n",
    "from docplex.mp.model import ModelAggregator\n",
    "from docplex.mp.compat23 import StringIO, izip\n",
    "from docplex.mp.constants import SOSType, CplexScope, ObjectiveSense\n",
    "from docplex.mp.constr import AbstractConstraint, LinearConstraint, RangeConstraint, \\\n",
    "    IndicatorConstraint, QuadraticConstraint, PwlConstraint, EquivalenceConstraint"
   ]
  },
  {
   "cell_type": "markdown",
   "metadata": {},
   "source": [
    "* Preparing the data, arcs, & nodes"
   ]
  },
  {
   "cell_type": "code",
   "execution_count": null,
   "metadata": {},
   "outputs": [],
   "source": [
    "##number of clients##\n",
    "c=39\n",
    "#vehile capacity\n",
    "Cap=3200\n",
    "#set of nodes\n",
    "N=[i for i in range(1,c+1)]\n",
    "#Including Depot\n",
    "V=[0]+N\n",
    "#orders to be delivered\n",
    "file=os.path.abspath(\"D:/IISE/Vikas 1/Python/orders_Wed.csv\")\n",
    "orders=pd.read_csv(file)\n",
    "#creating dictionary for the orders and nodes\n",
    "q={i:orders.iloc[i,2] for i in N}\n",
    "#storing distance\n",
    "file=os.path.abspath(\"D:/IISE/Vikas 1/distance.csv\")\n",
    "d_dummy=pd.read_csv(file)\n",
    "index=orders[\"Store ID\"]\n",
    "dummy=(len(index),len(index))\n",
    "distance=np.zeros(dummy)\n",
    "i=0\n",
    "j=0\n",
    "for i in range(len(index)):\n",
    "    for j in range(len(index)):\n",
    "        distance[i][j]=d_dummy.iloc[index[i],index[j]]\n",
    "\n",
    "\n",
    "loc_x=orders.iloc[:,3]\n",
    "loc_y=orders.iloc[:,4]\n",
    "order_dic={i:orders.iloc[i,2] for i in N}\n",
    "mpl.scatter(loc_x[1:,],loc_y[1:,])\n",
    "for i in N:\n",
    "    mpl.annotate(orders.iloc[i,1],(loc_x[i]+3,loc_y[i]))\n",
    "\n",
    "\n",
    "plt.plot(loc_x[0],loc_y[0],c='r',marker='s')\n",
    "plt.axis('equal')\n",
    "\n",
    "#set of arcs\n",
    "A=[(i,j) for i in V for j in V if i!=j]\n",
    "cost={(i,j):distance[i][j] for i,j in A}"
   ]
  },
  {
   "cell_type": "markdown",
   "metadata": {},
   "source": [
    "* Defing Model & Solving"
   ]
  },
  {
   "cell_type": "code",
   "execution_count": null,
   "metadata": {},
   "outputs": [],
   "source": [
    "m= Model('CVRP')\n",
    "#definig the variables\n",
    "x=m.binary_var_dict(A,name='x')\n",
    "u=m.continuous_var_dict(N,ub=Cap,name='u')\n",
    "\n",
    "#defining the objective\n",
    "m.minimize(m.sum(cost[i,j]*x[i,j] for i,j in A))\n",
    "\n",
    "#defining the constraints\n",
    "#each customer must be visited once\n",
    "m.add_constraints(m.sum(x[i,j] for j in V if j!=i)==1 for i in N)\n",
    "m.add_constraints(m.sum(x[i,j] for i in V if i!=j)==1 for j in N)\n",
    "m.add_indicator_constraints([m.indicator_constraint(x[i,j],u[i]+q[j]==u[j]) for i,j in A if i!=0 and j!=0])\n",
    "m.add_constraints(u[i]>=q[i] for i in N)\n",
    "m.parameters.timelimit = 300\n",
    "#m.parameters.mip.tolerances.mipgap = .40\n",
    "solution=m.solve(log_output=True)\n",
    "print(solution)"
   ]
  },
  {
   "cell_type": "markdown",
   "metadata": {},
   "source": [
    "* Visualize the results"
   ]
  },
  {
   "cell_type": "code",
   "execution_count": null,
   "metadata": {},
   "outputs": [],
   "source": [
    "#collecting the active arcs\n",
    "active_A = [a for a in A if x[a].solution_value==1]\n",
    "\n",
    "#printing the network\n",
    "plt.scatter(loc_x[1:,],loc_y[1:,],c=\"b\",marker=\">\")\n",
    "plt.plot(loc_x[0],loc_y[0],c='r',marker=\"s\")\n",
    "for i, j in active_A:\n",
    "    plt.plot([loc_x[i],loc_x[j]],[loc_y[i],loc_y[j]],c='g',alpha=0.9,label='route')\n",
    "plt.show()\n"
   ]
  }
 ],
 "metadata": {
  "kernelspec": {
   "display_name": "Python 3",
   "language": "python",
   "name": "python3"
  },
  "language_info": {
   "codemirror_mode": {
    "name": "ipython",
    "version": 3
   },
   "file_extension": ".py",
   "mimetype": "text/x-python",
   "name": "python",
   "nbconvert_exporter": "python",
   "pygments_lexer": "ipython3",
   "version": "3.7.0"
  }
 },
 "nbformat": 4,
 "nbformat_minor": 4
}
